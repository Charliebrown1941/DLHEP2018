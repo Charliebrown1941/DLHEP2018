{
 "cells": [
  {
   "cell_type": "markdown",
   "metadata": {},
   "source": [
    "## Lab 1- Python\n",
    "\n",
    "Let start with generating some fake random data. You can get a random number between 0 and 1 using the python random module as follow:"
   ]
  },
  {
   "cell_type": "code",
   "execution_count": 1,
   "metadata": {},
   "outputs": [
    {
     "name": "stdout",
     "output_type": "stream",
     "text": [
      "The Value of x is 0.168035539954\n"
     ]
    }
   ],
   "source": [
    "import random\n",
    "x=random.random()\n",
    "print \"The Value of x is\", x"
   ]
  },
  {
   "cell_type": "markdown",
   "metadata": {},
   "source": [
    "### Exercise 1.1\n",
    "Using random, write a function GenerateData(N, mymin, mymax), that returns a python list containing N random numbers between specified minimum and maximum value. Note that you may want to quickly work out on paper how to turn numbers between 0 and 1 to between other values. "
   ]
  },
  {
   "cell_type": "code",
   "execution_count": 2,
   "metadata": {},
   "outputs": [
    {
     "name": "stdout",
     "output_type": "stream",
     "text": [
      "Data Type: <type 'list'>\n",
      "Data Length: 1000\n",
      "Type of Data Contents: <type 'float'>\n",
      "Data Minimum: -9.99768549098\n",
      "Data Maximum: 9.99988336449\n"
     ]
    }
   ],
   "source": [
    "import random\n",
    "\n",
    "def GenerateData(N,min,max):\n",
    "    \n",
    "    out = []\n",
    "    x = random.random()\n",
    "    for i in range(N):\n",
    "        out.append(x)\n",
    "        x = random.uniform(min,max) \n",
    "        \n",
    "        \n",
    "    return out\n",
    "\n",
    "Data=GenerateData(1000,-10,10)\n",
    "print \"Data Type:\", type(Data)\n",
    "print \"Data Length:\", len(Data)\n",
    "if len(Data)>0: \n",
    "    print \"Type of Data Contents:\", type(Data[0])\n",
    "    print \"Data Minimum:\", min(Data)\n",
    "    print \"Data Maximum:\", max(Data)"
   ]
  },
  {
   "cell_type": "markdown",
   "metadata": {},
   "source": [
    "### Exercise 1.2\n",
    "\n",
    "Write a function that computes the mean of values in a list."
   ]
  },
  {
   "cell_type": "code",
   "execution_count": 3,
   "metadata": {},
   "outputs": [
    {
     "name": "stdout",
     "output_type": "stream",
     "text": [
      "Mean of Data: -0.0865613533991\n"
     ]
    }
   ],
   "source": [
    "# Skeleton\n",
    "def mean(Data):\n",
    "    m=0\n",
    "    \n",
    "    ### BEGIN SOLUTION\n",
    "\n",
    "    return float(sum(Data)) / max(len(Data), 1)    \n",
    "    \n",
    "    ### END SOLUTION\n",
    "    \n",
    "    return m\n",
    "\n",
    "print \"Mean of Data:\", mean(Data)"
   ]
  },
  {
   "cell_type": "markdown",
   "metadata": {},
   "source": [
    "### Exercise 1.3\n",
    "\n",
    "Write a function the applies a booling function (that returns true/false) to every element in data, and return a list of indices of elements where the result was true. Use this function to find the indices of positive entries. "
   ]
  },
  {
   "cell_type": "code",
   "execution_count": 4,
   "metadata": {},
   "outputs": [
    {
     "name": "stdout",
     "output_type": "stream",
     "text": [
      "[960, 962, 952, 990, 999, 988, 976, 972, 997, 963, 957, 975, 969, 944, 971, 947, 967, 970, 943, 921, 966, 965, 933, 958, 961, 929, 956, 953, 951, 946, 942, 950, 934, 931, 938, 906, 935, 878, 925, 844, 926, 882, 911, 919, 918, 904, 901, 916, 898, 900, 897, 830, 870, 852, 894, 893, 874, 892, 886, 889, 885, 887, 863, 853, 880, 877, 875, 865, 866, 862, 856, 847, 854, 851, 860, 861, 818, 815, 842, 801, 791, 850, 845, 843, 838, 828, 813, 819, 827, 837, 834, 796, 787, 808, 825, 822, 820, 809, 790, 800, 807, 784, 786, 802, 789, 754, 781, 792, 774, 776, 759, 763, 736, 780, 782, 729, 716, 779, 751, 775, 746, 707, 770, 761, 753, 731, 742, 732, 745, 688, 744, 722, 739, 695, 714, 733, 730, 723, 719, 725, 697, 694, 705, 720, 717, 718, 706, 682, 710, 665, 709, 661, 702, 687, 700, 670, 659, 685, 609, 645, 678, 675, 644, 658, 635, 647, 669, 668, 631, 638, 656, 655, 657, 654, 640, 651, 653, 633, 648, 610, 646, 642, 602, 629, 617, 634, 604, 619, 628, 600, 627, 597, 624, 615, 620, 613, 618, 603, 616, 605, 601, 607, 589, 594, 535, 579, 554, 585, 571, 581, 598, 596, 494, 592, 560, 580, 562, 584, 544, 548, 569, 509, 568, 567, 563, 547, 523, 527, 553, 545, 552, 437, 543, 526, 540, 538, 534, 530, 489, 495, 524, 522, 525, 518, 517, 503, 501, 520, 478, 511, 454, 510, 508, 465, 475, 499, 493, 481, 486, 448, 483, 485, 470, 460, 479, 462, 472, 466, 341, 456, 443, 436, 455, 446, 438, 435, 429, 373, 409, 428, 441, 439, 431, 425, 434, 427, 432, 422, 423, 424, 414, 415, 376, 397, 412, 389, 413, 402, 399, 378, 410, 408, 393, 396, 368, 391, 330, 361, 382, 357, 380, 356, 366, 375, 370, 352, 354, 344, 365, 360, 328, 329, 335, 353, 346, 311, 339, 299, 326, 289, 321, 292, 307, 308, 266, 304, 316, 313, 314, 295, 302, 240, 288, 277, 265, 293, 247, 271, 285, 281, 275, 229, 253, 279, 262, 273, 257, 261, 259, 264, 256, 245, 239, 252, 251, 250, 246, 225, 237, 189, 242, 188, 187, 206, 210, 230, 235, 233, 224, 163, 207, 223, 194, 211, 191, 202, 198, 199, 148, 201, 122, 177, 158, 193, 186, 185, 171, 166, 174, 182, 180, 154, 172, 139, 162, 121, 156, 155, 151, 133, 137, 149, 130, 147, 146, 123, 140, 141, 92, 136, 134, 113, 89, 120, 129, 100, 126, 127, 109, 97, 87, 111, 103, 106, 98, 105, 102, 84, 99, 101, 38, 61, 94, 85, 93, 67, 55, 86, 72, 88, 81, 59, 79, 71, 77, 70, 58, 49, 56, 68, 62, 46, 39, 1, 53, 35, 17, 18, 37, 31, 34, 42, 40, 29, 26, 0, 15, 16, 22, 11, 20, 14, 12, 19, 3, 5, 7]\n"
     ]
    }
   ],
   "source": [
    "def where(mylist,myfunc):\n",
    "    out= []\n",
    "    \n",
    "    ### BEGIN SOLUTION\n",
    "\n",
    "    for i in mylist:\n",
    "        if myfunc(i):\n",
    "            out.insert(int(i), mylist.index(i))\n",
    "    return out\n",
    "\n",
    "def positive(x):\n",
    "    return x>0\n",
    "    \n",
    "print where(Data,positive)"
   ]
  },
  {
   "cell_type": "markdown",
   "metadata": {},
   "source": [
    "### Exercise 1.4\n",
    "\n",
    "The inrange(mymin,mymax) function below returns a function that tests if it's input is between the specified values. Use this function, in conjunction to your solution to 1.3, to demonstrate that your data is \"flat\". Hint: pick several sub-ranges and show that the number of data point divided by the size of the range is roughly constant. "
   ]
  },
  {
   "cell_type": "code",
   "execution_count": 9,
   "metadata": {},
   "outputs": [
    {
     "name": "stdout",
     "output_type": "stream",
     "text": [
      "True True False False False\n",
      "True True False False False\n",
      "Number of Entries passing F1: 487\n",
      "Number of Entries passing F2: 1000\n",
      "Number of Entries passing F3: 513\n"
     ]
    },
    {
     "data": {
      "image/png": "[encoded data removed]",
      "text/plain": [
       "<matplotlib.figure.Figure at 0x7fc74485bed0>"
      ]
     },
     "metadata": {},
     "output_type": "display_data"
    }
   ],
   "source": [
    "def inrange(mymin,mymax):\n",
    "    def testrange(x):\n",
    "        return x<mymax and x>=mymin\n",
    "    return testrange\n",
    "# Examples:\n",
    "\n",
    "F1=inrange(0,10)\n",
    "F2=inrange(-10,10)\n",
    "F3=inrange(-10,0)\n",
    "\n",
    "print F1(0), F1(1), F1(10), F1(15), F1(20)\n",
    "print F2(0), F2(1), F2(10), F2(15), F2(20)\n",
    "\n",
    "print \"Number of Entries passing F1:\", len(where(Data,F1))\n",
    "print \"Number of Entries passing F2:\", len(where(Data,F2))\n",
    "print \"Number of Entries passing F3:\", len(where(Data,F3))\n",
    "\n",
    "import matplotlib.pyplot as plt\n",
    "\n",
    "plt.hist(Data, bins=10)  \n",
    "plt.title(\"Histogram over Data range\")\n",
    "plt.show()"
   ]
  },
  {
   "cell_type": "markdown",
   "metadata": {},
   "source": [
    "### Exercise 1.5\n",
    "\n",
    "Repeat Exercise 1.5 using the built in python functions sum and map instead of your solution to 1.3. "
   ]
  },
  {
   "cell_type": "code",
   "execution_count": 10,
   "metadata": {},
   "outputs": [
    {
     "name": "stdout",
     "output_type": "stream",
     "text": [
      "[470, 472, 465, 484, 486, 483, 482, 480, 485, 473, 468, 481, 477, 460, 479, 462, 476, 478, 459, 449, 475, 474, 454, 469, 471, 452, 467, 466, 464, 461, 458, 463, 455, 453, 457, 444, 456, 429, 450, 410, 451, 431, 445, 448, 447, 443, 442, 446, 440, 441, 439, 404, 425, 415, 438, 437, 426, 436, 433, 435, 432, 434, 422, 416, 430, 428, 427, 423, 424, 421, 418, 412, 417, 414, 419, 420, 397, 396, 408, 390, 386, 413, 411, 409, 407, 403, 395, 398, 402, 406, 405, 388, 383, 393, 401, 400, 399, 394, 385, 389, 392, 381, 382, 391, 384, 369, 379, 387, 374, 376, 370, 372, 361, 378, 380, 356, 348, 377, 367, 375, 366, 344, 373, 371, 368, 358, 363, 359, 365, 336, 364, 353, 362, 338, 347, 360, 357, 354, 351, 355, 339, 337, 342, 352, 349, 350, 343, 333, 346, 327, 345, 326, 341, 335, 340, 330, 325, 334, 293, 314, 332, 331, 313, 324, 309, 316, 329, 328, 306, 310, 322, 321, 323, 320, 311, 318, 319, 307, 317, 294, 315, 312, 288, 305, 298, 308, 290, 300, 304, 286, 303, 284, 302, 296, 301, 295, 299, 289, 297, 291, 287, 292, 280, 282, 257, 275, 267, 279, 274, 277, 285, 283, 237, 281, 268, 276, 269, 278, 261, 264, 273, 243, 272, 271, 270, 263, 250, 254, 266, 262, 265, 212, 260, 253, 259, 258, 256, 255, 235, 238, 251, 249, 252, 247, 246, 241, 240, 248, 229, 245, 219, 244, 242, 224, 228, 239, 236, 231, 234, 218, 232, 233, 226, 222, 230, 223, 227, 225, 166, 221, 216, 211, 220, 217, 213, 210, 206, 180, 194, 205, 215, 214, 207, 203, 209, 204, 208, 200, 201, 202, 198, 199, 182, 190, 196, 186, 197, 192, 191, 183, 195, 193, 188, 189, 178, 187, 163, 175, 185, 173, 184, 172, 177, 181, 179, 169, 171, 167, 176, 174, 161, 162, 164, 170, 168, 155, 165, 150, 160, 146, 159, 147, 153, 154, 137, 152, 158, 156, 157, 149, 151, 121, 145, 141, 136, 148, 125, 138, 144, 143, 140, 115, 129, 142, 134, 139, 131, 133, 132, 135, 130, 123, 120, 128, 127, 126, 124, 114, 119, 100, 122, 99, 98, 108, 110, 116, 118, 117, 113, 88, 109, 112, 103, 111, 101, 107, 104, 105, 80, 106, 65, 93, 86, 102, 97, 96, 90, 89, 92, 95, 94, 83, 91, 75, 87, 64, 85, 84, 82, 71, 74, 81, 70, 79, 78, 66, 76, 77, 48, 73, 72, 62, 47, 63, 69, 54, 67, 68, 60, 51, 45, 61, 57, 59, 52, 58, 56, 42, 53, 55, 21, 32, 50, 43, 49, 34, 28, 44, 38, 46, 41, 31, 40, 37, 39, 36, 30, 26, 29, 35, 33, 25, 22, 1, 27, 19, 10, 11, 20, 17, 18, 24, 23, 16, 15, 0, 8, 9, 14, 5, 13, 7, 6, 12, 2, 3, 4]\n"
     ]
    }
   ],
   "source": [
    "maplist = list(filter(lambda i: i>=0 ,Data))\n",
    "        \n",
    "newOut = []\n",
    "for i in maplist:\n",
    "    if i:\n",
    "        newOut.insert(int(i), maplist.index(i))\n",
    "print newOut"
   ]
  },
  {
   "cell_type": "markdown",
   "metadata": {},
   "source": [
    "### Exercise 1.6\n",
    "\n",
    "Write a new function called GenerateDataFromFunction(N,mymin,mymax,myfunc), that instead of generating a flat distribution, generates a distribution with functional form coded in myfunc. Note that myfunc will always be > 0.  \n",
    "\n",
    "Use your function to generate 1000 numbers that are Gaussian distributed, using the Gaussian function below. Confirm the mean of the data is close to mean you specify when building the Gaussian. \n",
    "\n",
    "Hint: A simple, but slow, solution is to a draw random number test_x within the specified range and another number p between the min and max of the function (which you will have to determine). If p<=function(test_x), then place test_x on the output. If not, repeat the process, drawing two new numbers. Repeat until you have the specified number of generated numbers, N. For this problem, it's OK to determine the min and max by numerically sampling the function.  \n",
    "\n"
   ]
  },
  {
   "cell_type": "code",
   "execution_count": null,
   "metadata": {
    "collapsed": true
   },
   "outputs": [],
   "source": [
    "def GenerateDataFromFunction(N,mymin,mymax,myfunc):\n",
    "    out = []\n",
    "    ### BEGIN SOLUTION\n",
    "\n",
    "    # Fill in your solution here        \n",
    "    \n",
    "    ### END SOLUTION\n",
    "    \n",
    "    return out"
   ]
  },
  {
   "cell_type": "code",
   "execution_count": null,
   "metadata": {
    "collapsed": true
   },
   "outputs": [],
   "source": [
    "import math\n",
    "\n",
    "def gaussian(mean, sigma):\n",
    "    def f(x):\n",
    "        return math.exp(((x-mean)**2)/(2*sigma**2))/math.sqrt(math.pi*sigma)\n",
    "    return f\n",
    "\n",
    "# Example Instantiation\n",
    "g1=gaussian(0,1)\n",
    "g2=gaussian(10,3)\n",
    "\n",
    "### BEGIN SOLUTION\n",
    "\n",
    "# Fill in your solution here        \n",
    "    \n",
    "### END SOLUTION\n"
   ]
  }
 ],
 "metadata": {
  "kernelspec": {
   "display_name": "Python 2",
   "language": "python",
   "name": "python2"
  },
  "language_info": {
   "codemirror_mode": {
    "name": "ipython",
    "version": 2
   },
   "file_extension": ".py",
   "mimetype": "text/x-python",
   "name": "python",
   "nbconvert_exporter": "python",
   "pygments_lexer": "ipython2",
   "version": "2.7.12"
  }
 },
 "nbformat": 4,
 "nbformat_minor": 2
}
