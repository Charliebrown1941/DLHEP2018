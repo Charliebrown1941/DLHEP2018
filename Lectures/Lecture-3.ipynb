{
 "cells": [
  {
   "cell_type": "markdown",
   "metadata": {},
   "source": [
    "# Lecture 3\n",
    "\n",
    "Let's try to do something simple in python and introduce some particle physics basics. In relativistic mechanics, the Energy and Momentum of particles are different in every frame, but obey $m^2=E^2-\\vec{p}^2$ or $E^2=\\vec{p}^2$ for massless particles, where we set the speed of light $c=1$. It is therefore convenient to express the Energy and Momentum of a particle as a 4-vector, for example in Euclidean coordiates: $p= (E,p_{x},p_{y},p_{z}) = (E,\\vec{p})$.\n",
    "\n",
    "Energy and momentum are concerved with a particle decays into two other particles, for example a $Z$ boson to two electrons, $Z\\rightarrow e^+ e^-$, or a Higgs Boson to two photons, $H\\rightarrow \\gamma\\gamma$. In 4-vectors we can express conservations, for example in the Higgs decay, as $p_H = p_{\\gamma1}+p_{\\gamma2}$. In a two body decay, it's easy to fully solve for the momenta daughter particles in the rest frame of the parent:\n",
    "\n",
    "$$\n",
    "m_H = 1.25 GeV\\\\\n",
    "p_H = (m_{H},0,0,0)\n",
    "$$\n",
    "\n",
    "Momentum conservation tells us that $\\vec{p_{H}} = 0 = \\vec{p_{\\gamma1}} + \\vec{p_{\\gamma2}} \\Rightarrow \\vec{p_{\\gamma1}} = - \\vec{p_{\\gamma2}} = p_\\gamma$, i.e. the daughters travel in opposite directions. The 4-vector of the photons are\n",
    "\n",
    "$$\n",
    "E_H = m_H = E_{\\gamma1}+E_{\\gamma2} = |\\vec{p_{\\gamma1}}| + |\\vec{p_{\\gamma2}}|=2|p_\\gamma|\\\\\n",
    "\\Rightarrow p_{\\gamma1}= (m_H/2, \\vec{p_{\\gamma}})\\\\\n",
    "\\Rightarrow p_{\\gamma2}= (m_H/2, -\\vec{p_{\\gamma}})\n",
    "$$\n",
    "\n",
    "If we select that direction to be aligned with one of our axes, then we can write:\n",
    "$$\n",
    "p_{\\gamma1}= (m_H/2, 0,0, m_H/2)\\\\\n",
    "p_{\\gamma2}= (m_H/2, 0,0, -m_H/2).\n",
    "$$\n",
    "\n",
    "We can compute these 4-vectors in the case that the parent particle is not at rest by relavistic boosting. \n",
    "\n",
    "We will begin by representing 4-vectors as python lists. For example the first photon in the rest frame can be written as:"
   ]
  },
  {
   "cell_type": "code",
   "execution_count": null,
   "metadata": {},
   "outputs": [],
   "source": [
    "m_H= 125.\n",
    "p_g1= [m_H/2,0,0,m_H/2]\n",
    "print p_g1"
   ]
  },
  {
   "cell_type": "markdown",
   "metadata": {},
   "source": [
    "To get the second photon, lets write a function that negates 4-vectors:"
   ]
  },
  {
   "cell_type": "code",
   "execution_count": null,
   "metadata": {},
   "outputs": [],
   "source": [
    "def neg_4v(p):\n",
    "    return [p[0], -p[1],  -p[2] , -p[3]]\n",
    "\n",
    "p_g2=neg_4v(p_g1)\n",
    "print p_g2"
   ]
  },
  {
   "cell_type": "markdown",
   "metadata": {},
   "source": [
    "Other useful functions:"
   ]
  },
  {
   "cell_type": "code",
   "execution_count": null,
   "metadata": {},
   "outputs": [],
   "source": [
    "def add_v4(p1,p2):\n",
    "    return [p1[0]+p2[0], p1[1]+p2[1],  p1[2]+p2[2] , p1[3]+p2[3]]\n",
    "\n",
    "def sub_v4(p1,p2):\n",
    "    return add_v4(p1,neg_4v(p2))\n",
    "\n",
    "print \"Sum:\", add_v4(p_g1,p_g2)\n",
    "print \"Difference:\", sub_v4(p_g1,p_g2)"
   ]
  },
  {
   "cell_type": "code",
   "execution_count": null,
   "metadata": {},
   "outputs": [],
   "source": [
    "import math\n",
    "\n",
    "def dot_v4(p1,p2):\n",
    "    return math.sqrt(sum([p1[0]*p2[0], -p1[1]*p2[1],  -p1[2]*p2[2] , -p1[3]*p2[3]]))\n",
    "\n",
    "def mass_v4(p):\n",
    "    return dot_v4(p,p)\n",
    "    \n",
    "print \"Dot:\", dot_v4(p_g1,p_g2)\n",
    "print \"Gamma Mass:\", mass_v4(p_g1)\n",
    "print \"Higgs Mass:\", mass_v4(add_v4(p_g1,p_g2))"
   ]
  },
  {
   "cell_type": "markdown",
   "metadata": {},
   "source": [
    "There are lots of ways to write the same thing, for example:"
   ]
  },
  {
   "cell_type": "code",
   "execution_count": null,
   "metadata": {},
   "outputs": [],
   "source": [
    "def add_v4_1(p1,p2):\n",
    "    out=list()\n",
    "    for i in range(4):\n",
    "        out.append(p1[i]+p2[i])\n",
    "    return out\n",
    "\n",
    "def add_v4_2(p1,p2):\n",
    "    return map(lambda x: x[0]+x[1],zip(p1,p2))\n",
    "\n",
    "def add_v4_3(p1,p2):\n",
    "    return [sum(x) for x in zip(p1,p2)]\n",
    "\n",
    "print \"zip:\", zip(p_g1,p_g2)\n",
    "\n",
    "print \"Sum:\", add_v4_3(p_g1,p_g2)"
   ]
  },
  {
   "cell_type": "code",
   "execution_count": null,
   "metadata": {
    "collapsed": true
   },
   "outputs": [],
   "source": [
    "def boost_matrix(beta_in):\n",
    "    Lambda= [[0,0,0,0],\n",
    "             [0,0,0,0],\n",
    "             [0,0,0,0],\n",
    "             [0,0,0,0]]\n",
    "    \n",
    "    beta=[0]+beta_in\n",
    "\n",
    "    beta2=sum(x**2 for x in beta)\n",
    "    gamma=1./math.sqrt(1.-beta2)\n",
    "    \n",
    "    for i in range(4):\n",
    "        for j in range(4):\n",
    "            if j==0:\n",
    "                Lambda[i][0]=-gamma*beta[i]\n",
    "            elif i==0:\n",
    "                Lambda[0][j]=-gamma*beta[j]\n",
    "            else:\n",
    "                Lambda[i][j]= (gamma-1)*beta[i]*beta[j]/beta2 + float(i==j)\n",
    "\n",
    "    Lambda[0][0]=gamma\n",
    "\n",
    "    return Lambda\n",
    "                \n",
    "def boost(p,beta):\n",
    "    Lambda=boost_matrix(beta)\n",
    "    out=4*[0.]\n",
    "    for j in range(4):\n",
    "        out[j]=sum(map(lambda x: x[0]*x[1],zip(p,Lambda[j])))\n",
    "    return out\n",
    "\n",
    "def decay(p):\n",
    "    m=mass_v4(p)\n",
    "    p1=[m/2.,0.,0.,m/2.]\n",
    "    p2=[m/2.,0.,0.,-m/2.]\n",
    "    # We should now rotate by 2 arbitrary angles...\n",
    "    beta=[p[1]/p[0],p[2]/p[0],p[3]/p[0]]\n",
    "    \n",
    "    p1b=boost(p1,beta)\n",
    "    p2b=boost(p2,beta)\n",
    "\n",
    "    return p1b,p2b\n"
   ]
  },
  {
   "cell_type": "code",
   "execution_count": null,
   "metadata": {},
   "outputs": [],
   "source": [
    "# Start with a Higgs at rest\n",
    "p_H=[m_H,0.,0.,0.]\n",
    "\n",
    "# Now boost it (along y for example)\n",
    "p_Hb=boost(p_H,[0.,.5,0.])\n",
    "print \"Boosted Higgs:\", p_Hb\n",
    "print \"Mass of Boosted Higgs:\", mass_v4(p_Hb)\n",
    "\n",
    "# Decay the boosted Higgs\n",
    "p1,p2=decay(p_Hb)\n",
    "\n",
    "# Make sure the decay products add back to the Higgs\n",
    "print \"Higgs from daughters:\", add_v4(p1,p2)\n",
    "print \"Higgs mass from daughters:\", mass_v4(add_v4(p1,p2))\n"
   ]
  },
  {
   "cell_type": "markdown",
   "metadata": {},
   "source": [
    "Lets write a function that gives us the 4-vectors of 2 daughter particles given a parent particle 4 vector."
   ]
  },
  {
   "cell_type": "markdown",
   "metadata": {},
   "source": [
    "## Object Oriented Programming\n",
    "\n",
    "Lets write a 4-vector class to do the same thing:"
   ]
  },
  {
   "cell_type": "code",
   "execution_count": null,
   "metadata": {
    "collapsed": true
   },
   "outputs": [],
   "source": [
    "class four_vector(object):\n",
    "    def __init__(self, p=None):\n",
    "        if p:\n",
    "            self.v=p\n",
    "        else:\n",
    "            self.v=[0.,0.,0.,0.]\n",
    "\n",
    "    def setval(self,l):\n",
    "        self.v=l\n",
    "            \n",
    "    def __add__(self,other):\n",
    "        return four_vector([sum(x) for x in zip(self.v,other)])\n",
    "    \n",
    "    def neg(self,p):\n",
    "        return four_vector([p[0], -p[1],  -p[2] , -p[3]])\n",
    "\n",
    "    def __sub__(self,other):\n",
    "        return self.__add__(self.v,self.neg(other))\n",
    "  \n",
    "    def __mul__(self,other):\n",
    "        return math.sqrt(sum([self.v[0]*other[0], \n",
    "                              -self.v[1]*other[1],\n",
    "                              -self.v[2]*other[2],\n",
    "                              -self.v[3]*other[3]]))\n",
    "\n",
    "    def boost(self,beta):\n",
    "        Lambda=boost_matrix(beta)\n",
    "        out=4*[0.]\n",
    "        for j in range(4):\n",
    "            out[j]=sum(map(lambda x: x[0]*x[1],zip(self.v,Lambda[j])))\n",
    "        return four_vector(out)\n",
    "\n",
    "    def mass(self):\n",
    "        return self.__mul__(self.v)\n",
    "\n",
    "    def __getitem__(self,i):\n",
    "        return self.v[i]\n",
    "\n",
    "    \n",
    "    def __str__(self):\n",
    "        return \"({0}, {1}, {2}, {3})\".format(self.v[0],self.v[1],self.v[2],self.v[3])\n",
    "\n",
    "\n",
    "        "
   ]
  },
  {
   "cell_type": "code",
   "execution_count": null,
   "metadata": {
    "collapsed": true
   },
   "outputs": [],
   "source": [
    "def decay(p):\n",
    "    m=p.mass()\n",
    "    p1=four_vector([m/2.,0.,0.,m/2.])\n",
    "    p2=four_vector([m/2.,0.,0.,-m/2.])\n",
    "    # We should now rotate by 2 arbitrary angles...\n",
    "    beta=[p[1]/p[0],p[2]/p[0],p[3]/p[0]]\n",
    "    \n",
    "    p1b=p1.boost(beta)\n",
    "    p2b=p2.boost(beta)\n",
    "\n",
    "    return p1b,p2b\n",
    "\n"
   ]
  },
  {
   "cell_type": "code",
   "execution_count": null,
   "metadata": {},
   "outputs": [],
   "source": [
    "# Start with a Higgs at rest\n",
    "p_H=four_vector([m_H,0.,0.,0.])\n",
    "print \"Initial Higgs:\", p_H\n",
    "\n",
    "# Now boost it (along y for example)\n",
    "p_Hb=p_H.boost([0.,.5,0.])\n",
    "print \"Boosted Higgs:\", p_Hb\n",
    "print \"Mass of Boosted Higgs:\", p_Hb.mass()\n",
    "\n",
    "# Decay the boosted Higgs\n",
    "p1,p2=decay(p_Hb)\n",
    "\n",
    "# Make sure the decay products add back to the Higgs\n",
    "print \"Higgs from daughters:\", p1+p2\n",
    "print \"Higgs mass from daughters:\", (p1+p2).mass()"
   ]
  },
  {
   "cell_type": "code",
   "execution_count": null,
   "metadata": {},
   "outputs": [],
   "source": [
    "class composite(four_vector):\n",
    "    def __init__(self,daughters):\n",
    "        super(composite, self).__init__()\n",
    "        self.daughters=daughters\n",
    "\n",
    "        tmp=four_vector()\n",
    "        for d in self.daughters:\n",
    "            tmp=tmp+d\n",
    "          \n",
    "        self.setval(tmp.v)\n",
    "\n",
    "\n"
   ]
  },
  {
   "cell_type": "code",
   "execution_count": null,
   "metadata": {},
   "outputs": [],
   "source": [
    "H_reco=composite([p1,p2])\n",
    "print \"Composite Higgs:\", H_reco\n",
    "print \"Mass:\", H_reco.mass()"
   ]
  },
  {
   "cell_type": "markdown",
   "metadata": {},
   "source": [
    "# Dictionaries"
   ]
  },
  {
   "cell_type": "code",
   "execution_count": null,
   "metadata": {},
   "outputs": [],
   "source": [
    "Events=[]\n",
    "\n",
    "for i in range(1,11):\n",
    "    p_H=four_vector([m_H,0.,0.,0.])\n",
    "    my_boost= float(i)/11.\n",
    "    p_Hb=p_H.boost([0.,my_boost,0.])\n",
    "    p1,p2=decay(p_Hb)\n",
    "    \n",
    "    Event= {\"Higgs\":composite([p1,p2]),\n",
    "           \"Boost\":my_boost}\n",
    "    \n",
    "    Events.append(Event)\n",
    "    \n",
    "# Make sure the decay products add back to the Higgs\n",
    "for i,Event in enumerate(Events):\n",
    "    print \"Event:\",i\n",
    "    print \"Higgs 4-vector:\",Event[\"Higgs\"]\n",
    "    print \"Boost:\",Event[\"Boost\"]\n",
    "\n"
   ]
  },
  {
   "cell_type": "code",
   "execution_count": null,
   "metadata": {
    "collapsed": true
   },
   "outputs": [],
   "source": []
  },
  {
   "cell_type": "code",
   "execution_count": null,
   "metadata": {
    "collapsed": true
   },
   "outputs": [],
   "source": []
  },
  {
   "cell_type": "code",
   "execution_count": null,
   "metadata": {
    "collapsed": true
   },
   "outputs": [],
   "source": []
  }
 ],
 "metadata": {
  "kernelspec": {
   "display_name": "Python 2",
   "language": "python",
   "name": "python2"
  },
  "language_info": {
   "codemirror_mode": {
    "name": "ipython",
    "version": 2
   },
   "file_extension": ".py",
   "mimetype": "text/x-python",
   "name": "python",
   "nbconvert_exporter": "python",
   "pygments_lexer": "ipython2",
   "version": "2.7.12"
  }
 },
 "nbformat": 4,
 "nbformat_minor": 2
}
