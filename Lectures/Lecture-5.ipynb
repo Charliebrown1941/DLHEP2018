{
 "cells": [
  {
   "cell_type": "markdown",
   "metadata": {},
   "source": [
    "# Lecture 5\n",
    "\n",
    "Today's lecture will focus on getting everyone comfortable with working with Jupyter and Python. We will also introduce `git`.\n",
    "\n",
    "## Git\n",
    "\n",
    "`git` is a Version Control System (VCS), typically used to organize the source code of software project but also good source of documents or web-pages. An instance of `git` server stores repositories, each typically containing the code relevant to a specific project. Users create local `clones` of repositories, change and develop the local copies of the code, `commit` the changes to their local repository, `push` to the server as a contribution,  \n",
    "`pull` updates from the server, and `merge` changes between local and remote versions. \n",
    "\n",
    "Besides cloning, repositories can be branched or forked. A repository generally starts with a `master` branch that evolves as push requests are merged in. Creating a new branch from an existing branch creates a snapshot of the which can evolve independently or be merged in later. Branches are easy to make and delete, and can serve various purposes. They can represent a stable version of software package. Or a parallel development for different operating system. A fork of a repository is a standalone instance of the repository which can be stored and managed independently from the original, where you can work independently without constraints or interference. \n",
    "\n",
    "[GitHub](github.com) provides a massive publically accessible instance of a `git` system besides sharing code, projects can be developed by the open source community. It provides tools for managing your repository and a wiki for documentation. Contributions to public software on GitHub generally require making a merge request which would be judged by the managers of the repository. That's why most software packages enourage you to create a new fork, so you can work independently.\n",
    "\n",
    "Lets take a look at some repositories:\n",
    "\n",
    "* [Keras](https://github.com/keras-team/keras)\n",
    "* [This class](https://github.com/UTA-HEP-Computing/DLHEP2018)\n",
    "\n",
    "\n"
   ]
  },
  {
   "cell_type": "markdown",
   "metadata": {},
   "source": [
    "## Plan\n",
    "\n",
    "You made a clone of the class repository when you started work on Lab 0. We will create a new fork where you can keep track and submit your work, following [these instructions](https://help.github.com/articles/fork-a-repo/).\n",
    "\n",
    "Lets start by getting a GitHub account. If you don't have an account already, goto [GitHub.com](github.com) and create an account for yourself.\n",
    "\n",
    "Next, creating a fork of the [class repository](https://github.com/UTA-HEP-Computing/DLHEP2018). Click the link and press the \"Fork\" button on the top right. Select your repository as where you want to place the fork.\n"
   ]
  },
  {
   "cell_type": "markdown",
   "metadata": {},
   "source": [
    "Now we will check out your fork on the cluster.\n",
    "\n",
    "Note: we will use `!` and `%` to call shell commands directly in this notebook. Follow along yourself. Either create a new notebook or open a terminal.\n",
    "\n",
    "Start by listing the contents of your current directory."
   ]
  },
  {
   "cell_type": "code",
   "execution_count": null,
   "metadata": {
    "collapsed": true
   },
   "outputs": [],
   "source": [
    "%cd ~\n",
    "!ls"
   ]
  },
  {
   "cell_type": "code",
   "execution_count": null,
   "metadata": {},
   "outputs": [],
   "source": [
    "%cd ~/Class/tmp/\n",
    "!ls"
   ]
  },
  {
   "cell_type": "markdown",
   "metadata": {},
   "source": [
    "From the github page for your fork, press the green \"Clone or download\" button and copy the URL.\n",
    "\n",
    "Goto to your notebook and use the following command to clone the repository:\n"
   ]
  },
  {
   "cell_type": "code",
   "execution_count": null,
   "metadata": {},
   "outputs": [],
   "source": [
    "!git clone https://github.com/afarbin/DLHEP2018.git"
   ]
  },
  {
   "cell_type": "markdown",
   "metadata": {},
   "source": [
    "Go into the directory:"
   ]
  },
  {
   "cell_type": "code",
   "execution_count": null,
   "metadata": {},
   "outputs": [],
   "source": [
    "%cd /home/afarbin/Class/tmp/DLHEP2018\n",
    "!ls"
   ]
  },
  {
   "cell_type": "markdown",
   "metadata": {},
   "source": [
    "We will now connect your fork to the original so you can pull changes from there. \n",
    "\n",
    "Check remote status:"
   ]
  },
  {
   "cell_type": "code",
   "execution_count": null,
   "metadata": {},
   "outputs": [],
   "source": [
    "!git remote -v"
   ]
  },
  {
   "cell_type": "markdown",
   "metadata": {},
   "source": [
    "Now use the original class URL to set your upstream:"
   ]
  },
  {
   "cell_type": "code",
   "execution_count": null,
   "metadata": {
    "collapsed": true
   },
   "outputs": [],
   "source": [
    "!git remote add upstream https://github.com/UTA-HEP-Computing/DLHEP2018.git"
   ]
  },
  {
   "cell_type": "code",
   "execution_count": null,
   "metadata": {},
   "outputs": [],
   "source": [
    "!git remote -v"
   ]
  },
  {
   "cell_type": "markdown",
   "metadata": {},
   "source": [
    "From now on, you can get the newest version of class material by using:"
   ]
  },
  {
   "cell_type": "code",
   "execution_count": null,
   "metadata": {},
   "outputs": [],
   "source": [
    "!git pull"
   ]
  },
  {
   "cell_type": "markdown",
   "metadata": {},
   "source": [
    "## Quiz\n",
    "\n",
    "* Use the \"cp\" command to copy your solutions to Lab-0 here:"
   ]
  },
  {
   "cell_type": "code",
   "execution_count": null,
   "metadata": {
    "collapsed": true
   },
   "outputs": [],
   "source": [
    "!cp /home/afarbin/Class/DLHEP2018/Labs/Lab-0/Lab-0.ipynb /home/afarbin/Class/tmp/DLHEP2018/Labs/Lab-0/Lab-0-Solution.ipynb"
   ]
  },
  {
   "cell_type": "markdown",
   "metadata": {},
   "source": [
    "* Navigate to the new copy of the lab in Jupyter and start the notebook\n",
    "* Add a cell the the bottom of the notebook.\n",
    "* Write a function that checks if a number is prime or not.\n",
    "* Save your notebook.\n",
    "* Add, commit, and push your notebook:"
   ]
  },
  {
   "cell_type": "code",
   "execution_count": null,
   "metadata": {},
   "outputs": [],
   "source": [
    "!git add Labs/Lab-0/Lab-0-Solution.ipynb\n",
    "!git commit -m \"A message\"\n",
    "!git push "
   ]
  },
  {
   "cell_type": "code",
   "execution_count": null,
   "metadata": {
    "collapsed": true
   },
   "outputs": [],
   "source": []
  }
 ],
 "metadata": {
  "kernelspec": {
   "display_name": "Python 2",
   "language": "python",
   "name": "python2"
  },
  "language_info": {
   "codemirror_mode": {
    "name": "ipython",
    "version": 2
   },
   "file_extension": ".py",
   "mimetype": "text/x-python",
   "name": "python",
   "nbconvert_exporter": "python",
   "pygments_lexer": "ipython2",
   "version": "2.7.12"
  }
 },
 "nbformat": 4,
 "nbformat_minor": 2
}
